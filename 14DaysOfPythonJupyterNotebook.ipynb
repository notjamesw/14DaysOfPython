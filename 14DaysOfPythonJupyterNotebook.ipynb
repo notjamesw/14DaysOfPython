{
 "cells": [
  {
   "cell_type": "markdown",
   "metadata": {},
   "source": [
    "# 14 Days of Python #\n",
    " \n",
    "Welcome to 14 days of python, this notebook is based off of the course Python in 14 days from droneblocks.io, the link to the course can be found here: https://learn.droneblocks.io/p/introduction-to-python-in-14-days."
   ]
  },
  {
   "cell_type": "markdown",
   "metadata": {},
   "source": [
    "## Day 1 ##\n",
    "In day 1, we'll setup the python environment and teach you how to write your first program in python. "
   ]
  },
  {
   "cell_type": "code",
   "execution_count": 4,
   "metadata": {},
   "outputs": [
    {
     "data": {
      "text/html": [
       "\n",
       "<div align=\"center\">\n",
       "    <iframe width=\"560\" height=\"315\"\n",
       "    src=\"https://player.hotmart.com/embed/vqn944NPR3?signature=5-LMb9eFiN-H3qHQzXjDjeATV4GB_aIa7Xm7T8-_q9bvvSz8DHOfHNT9sz14sWgokAol6hsK6U8s1F8qm6DGuefUvHq1Hieo_cJMPc6c2QatNmhYceemehfPHaRiCxGDPDs-NV6stBsJlczqlDKddJKj6moNyjlXSUYcTD51zJqjzl8BGIObSEXzYKjU39GekQmN0B1Aaw-z6rMoGU56k40WnVIBoubeGROTXWh7DLxxYse67UFGih9Tu0ri-h8XQN5VQ8bTOcNRikFl3hQVYkHF25r2RoMzGvGghy77jsi2wOc3B5GAYPtcekAZbuc2ccPRlWE-N9_03kpxM8UsYA==&token=aa2d356b-e2f0-45e8-9725-e0efc7b5d29c&user=101458023&\"\n",
       "    </iframe>\n",
       "</div>\n"
      ],
      "text/plain": [
       "<IPython.core.display.HTML object>"
      ]
     },
     "execution_count": 4,
     "metadata": {},
     "output_type": "execute_result"
    }
   ],
   "source": [
    "from IPython.display import HTML\n",
    "HTML(\"\"\"\n",
    "<div align=\"center\">\n",
    "    <iframe width=\"560\" height=\"315\"\n",
    "    src=\"https://player.hotmart.com/embed/vqn944NPR3?signature=5-LMb9eFiN-H3qHQzXjDjeATV4GB_aIa7Xm7T8-_q9bvvSz8DHOfHNT9sz14sWgokAol6hsK6U8s1F8qm6DGuefUvHq1Hieo_cJMPc6c2QatNmhYceemehfPHaRiCxGDPDs-NV6stBsJlczqlDKddJKj6moNyjlXSUYcTD51zJqjzl8BGIObSEXzYKjU39GekQmN0B1Aaw-z6rMoGU56k40WnVIBoubeGROTXWh7DLxxYse67UFGih9Tu0ri-h8XQN5VQ8bTOcNRikFl3hQVYkHF25r2RoMzGvGghy77jsi2wOc3B5GAYPtcekAZbuc2ccPRlWE-N9_03kpxM8UsYA==&token=aa2d356b-e2f0-45e8-9725-e0efc7b5d29c&user=101458023&\"\n",
    "    </iframe>\n",
    "</div>\n",
    "\"\"\")"
   ]
  },
  {
   "cell_type": "markdown",
   "metadata": {},
   "source": [
    "Lesson Code:\n"
   ]
  },
  {
   "cell_type": "raw",
   "metadata": {},
   "source": [
    "Dear Future Me:\n",
    "\n",
    "Today I have started my journey learning Python.\n",
    "I am a little bit ..... <insert feeling>\n",
    "I am so sure I can do this! \n",
    "\n",
    "I am so glad you started this journey 2+ weeks ago.\n",
    "I am so excited to teach this to my students.\n",
    "\n",
    "Many thanks\n",
    "<your name>"
   ]
  },
  {
   "cell_type": "markdown",
   "metadata": {},
   "source": [
    "## Day 2 ##\n",
    "In day 2, we'll learn about printing to the console, as well as specific syntax."
   ]
  },
  {
   "cell_type": "markdown",
   "metadata": {},
   "source": [
    "Lesson Code:"
   ]
  },
  {
   "cell_type": "code",
   "execution_count": 1,
   "metadata": {},
   "outputs": [
    {
     "name": "stdout",
     "output_type": "stream",
     "text": [
      "1. Python is fun\n",
      "2. Python is easy\n",
      "3. I'm acing the challenge\n",
      "4. ***Clinton***\n",
      "5. Let's learn together!\n",
      "6. \"We love Python\" they all said.\n",
      "7. 123\n",
      "456\n",
      "8. Let's go \n",
      "DroneBlocks!!\n"
     ]
    }
   ],
   "source": [
    "print(\"1. Python is fun\")\n",
    "print(\"2. Python is easy\")\n",
    "print(\"3. I'm acing the challenge\")\n",
    "print(\"4. ***Clinton***\")\n",
    "print(\"5. Let's learn together!\")\n",
    "print('6. \"We love Python\" they all said.')\n",
    "print(\"7. 123\\n456\")\n",
    "print(\"\"\"8. Let's go \n",
    "DroneBlocks!!\"\"\")"
   ]
  },
  {
   "cell_type": "markdown",
   "metadata": {},
   "source": [
    "## Day 3 ##\n",
    "In day 3, we'll learn about math operations and doing math in python"
   ]
  },
  {
   "cell_type": "markdown",
   "metadata": {},
   "source": [
    "Lesson Code:"
   ]
  },
  {
   "cell_type": "code",
   "execution_count": 2,
   "metadata": {},
   "outputs": [
    {
     "name": "stdout",
     "output_type": "stream",
     "text": [
      "************************************\n",
      "Python can help us solve many problems. For example:\n",
      "1. If you get $10 a week in one year, for two years, you will have:\n",
      "1040\n",
      "2. If we split a $125 bill between you, me and Sarah:\n",
      "41.666666666666664\n",
      "3. If I write 8 lines of code a week for 8 weeks:\n",
      "64\n",
      "4. 5*5*5+10 is :\n",
      "135\n",
      "Amazing! Python is so clever!\n",
      "************************************\n"
     ]
    }
   ],
   "source": [
    "print(\"************************************\")\n",
    "print(\"Python can help us solve many problems. For example:\")\n",
    "print(\"1. If you get $10 a week in one year, for two years, you will have:\")\n",
    "print(10*52*2)\n",
    "print(\"2. If we split a $125 bill between you, me and Sarah:\")\n",
    "print(125/3)\n",
    "print(\"3. If I write 8 lines of code a week for 8 weeks:\")\n",
    "print(8*8)\n",
    "print(\"4. 5*5*5+10 is :\")\n",
    "print(5*5*5+10)\n",
    "print(\"Amazing! Python is so clever!\")\n",
    "print(\"************************************\")"
   ]
  },
  {
   "cell_type": "markdown",
   "metadata": {},
   "source": [
    "## Day 4 ##\n",
    "In day 4, we'll learn about formatted string literals and combining arithmetic with strings"
   ]
  },
  {
   "cell_type": "markdown",
   "metadata": {},
   "source": [
    "Lesson Code:\n"
   ]
  },
  {
   "cell_type": "code",
   "execution_count": 3,
   "metadata": {},
   "outputs": [
    {
     "name": "stdout",
     "output_type": "stream",
     "text": [
      "Today is the 225th day\n",
      "\n",
      "**************************************************\n",
      "Hello coder. This is a cool output right?\n",
      "We can just freestyle 5*5 is 25 and we can do things liketype\n",
      "\n",
      "new line and 625 is a big number. \n",
      "We can take 625 and divide it by 7: 89.28571428571429\n",
      "all in real time! How cool is that?! \n",
      "**************************************************\n",
      "\n"
     ]
    }
   ],
   "source": [
    "print(f\"Today is the {15*15}th day\")\n",
    "print(f\"\"\"\n",
    "{'*'*50}\n",
    "Hello coder. This is a cool output right?\n",
    "We can just freestyle 5*5 is {5*5} and we can do things liketype\n",
    "\n",
    "new line and {5*5*5*5} is a big number. \n",
    "We can take {5*5*5*5} and divide it by 7: {5*5*5*5/7}\n",
    "all in real time! How cool is that?! \n",
    "{'*'*50}\n",
    "\"\"\")"
   ]
  },
  {
   "cell_type": "markdown",
   "metadata": {},
   "source": [
    "## Day 5 ##\n",
    "In day 5, we'll learn about data types in python, specifically the four primative data types: Integers, Floats, Strings, and Boolean."
   ]
  },
  {
   "cell_type": "markdown",
   "metadata": {},
   "source": [
    "Challenge Code:"
   ]
  },
  {
   "cell_type": "code",
   "execution_count": 4,
   "metadata": {},
   "outputs": [
    {
     "data": {
      "text/plain": [
       "24"
      ]
     },
     "execution_count": 4,
     "metadata": {},
     "output_type": "execute_result"
    }
   ],
   "source": [
    "4\n",
    "\"Hello\"\n",
    "1.5\n",
    "10 < 15\n",
    "False\n",
    "12\n",
    "0.25\n",
    "\"Data\"\n",
    "0.5\n",
    "100000000000000000000\n",
    "\"123\"\n",
    "True\n",
    "\"12.50\"\n",
    "12001243134\n",
    "100.0\n",
    "24.5\n",
    "5 > 5\n",
    "\"???\"\n",
    "100 < 99\n",
    "24"
   ]
  },
  {
   "cell_type": "markdown",
   "metadata": {},
   "source": [
    "## Day 6 ##\n",
    "In day 6, we'll learn about variables."
   ]
  },
  {
   "cell_type": "markdown",
   "metadata": {},
   "source": [
    "Challenge Code:"
   ]
  },
  {
   "cell_type": "code",
   "execution_count": 5,
   "metadata": {},
   "outputs": [],
   "source": [
    "our_story = f\"\"\"Once upon a time <name> wanted to leave <place> in search of a\n",
    "magic adventure! <name> wanted to collect <number> <color> crystals of Hope. \n",
    "Soon <name> found <number> of <color> crystals but on the way home... alas... \n",
    "one crystal fell out of our adventurers bag and only <number - 1> <color> \n",
    "crystals made it back.\n",
    "\"\"\""
   ]
  },
  {
   "cell_type": "markdown",
   "metadata": {},
   "source": [
    "## Day 7 ##\n",
    "In day 7, we'll learn about adding comments to our code"
   ]
  },
  {
   "cell_type": "markdown",
   "metadata": {},
   "source": [
    "## Day 8 ##\n",
    "In day 8, we'll learn about user inputs"
   ]
  },
  {
   "cell_type": "markdown",
   "metadata": {},
   "source": [
    "Challenge Code:"
   ]
  },
  {
   "cell_type": "code",
   "execution_count": 6,
   "metadata": {},
   "outputs": [
    {
     "name": "stdout",
     "output_type": "stream",
     "text": [
      "Once upon a time Connor wanted to leave Dronesville in search of a\n",
      "magic adventure! Connor wanted to collect 6 Green crystals of hope. \n",
      "Soon Connor found 6 of Green crystals but on the way home... alas...\n",
      "one crystal fell out of our adventures bag and only 5 Green \n",
      "crytals made it back. \n",
      "\n"
     ]
    }
   ],
   "source": [
    "name = \"Connor\"\n",
    "place = \"Dronesville\"\n",
    "color = \"Green\"\n",
    "number = 6\n",
    "our_story = f\"\"\"Once upon a time {name} wanted to leave {place} in search of a\n",
    "magic adventure! {name} wanted to collect {number} {color} crystals of hope. \n",
    "Soon {name} found {number} of {color} crystals but on the way home... alas...\n",
    "one crystal fell out of our adventures bag and only {number - 1} {color} \n",
    "crytals made it back. \n",
    "\"\"\"\n",
    "\n",
    "print(our_story)"
   ]
  },
  {
   "cell_type": "markdown",
   "metadata": {},
   "source": [
    "## Day 9 ##\n",
    "In day 9, we'll learn about if statements (if, elif and else)"
   ]
  },
  {
   "cell_type": "markdown",
   "metadata": {},
   "source": [
    "Lesson Code:"
   ]
  },
  {
   "cell_type": "code",
   "execution_count": 7,
   "metadata": {},
   "outputs": [
    {
     "name": "stdout",
     "output_type": "stream",
     "text": [
      "Your number is greater than 5. Cool.\n",
      "Your number is greater than 7. Nice\n"
     ]
    }
   ],
   "source": [
    "# Lesson 9: Learning about IF Statements\n",
    "# a = 20\n",
    "# if a == 20:\n",
    "#     print(\"a is 20.\")\n",
    "\n",
    "user_number = 10 #input(\"Pick a number between 1 and 10: \")\n",
    "#user_number = int(user_number)\n",
    "\n",
    "if user_number > 5: \n",
    "    print(\"Your number is greater than 5. Cool.\")\n",
    "    if user_number > 7:\n",
    "        print(\"Your number is greater than 7. Nice\")\n",
    "elif user_number < 5:\n",
    "    print(\"Your number is less than 5. Still cool.\")\n",
    "    if user_number < 3:\n",
    "        print(\"Your number is less than 3. Nice\")\n",
    "else:\n",
    "    print(\"Your number IS 5! Cool!\")"
   ]
  },
  {
   "cell_type": "markdown",
   "metadata": {},
   "source": [
    "## Day 10 ##\n",
    "In day 10, we'll learn about lists"
   ]
  },
  {
   "cell_type": "markdown",
   "metadata": {},
   "source": [
    "Lesson Code:\n"
   ]
  },
  {
   "cell_type": "code",
   "execution_count": 8,
   "metadata": {},
   "outputs": [
    {
     "name": "stdout",
     "output_type": "stream",
     "text": [
      "['body', 'battery', 'propellers', 'guards', 'user manual']\n",
      "body\n",
      "battery\n",
      "propellers\n",
      "guards\n",
      "user manual\n",
      "Item #1: body\n",
      "Item #2: battery\n",
      "Item #3: propellers\n",
      "Item #4: guards\n",
      "Item #5: user manual\n"
     ]
    }
   ],
   "source": [
    "drone_parts = [\"body\",\"battery\",\"propellers\",\"guards\",\"user manual\"]\n",
    "\n",
    "print(drone_parts)\n",
    "print(drone_parts[0])\n",
    "print(drone_parts[1])\n",
    "print(drone_parts[2])\n",
    "print(drone_parts[3])\n",
    "print(drone_parts[4])\n",
    "\n",
    "counter = 1\n",
    "for part in drone_parts:\n",
    "    print(f\"Item #{counter}: {part}\")\n",
    "    counter += 1\n",
    "    "
   ]
  },
  {
   "cell_type": "code",
   "execution_count": null,
   "metadata": {},
   "outputs": [],
   "source": []
  }
 ],
 "metadata": {
  "kernelspec": {
   "display_name": "Python 3",
   "language": "python",
   "name": "python3"
  },
  "language_info": {
   "codemirror_mode": {
    "name": "ipython",
    "version": 3
   },
   "file_extension": ".py",
   "mimetype": "text/x-python",
   "name": "python",
   "nbconvert_exporter": "python",
   "pygments_lexer": "ipython3",
   "version": "3.9.6"
  }
 },
 "nbformat": 4,
 "nbformat_minor": 2
}
